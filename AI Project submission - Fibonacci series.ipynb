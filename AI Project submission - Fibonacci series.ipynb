x = -1 
y = 1
i = 1
for i in range(1,20):
    z = x+y
    print(z)
    x=y
    y=z
    i+=1
